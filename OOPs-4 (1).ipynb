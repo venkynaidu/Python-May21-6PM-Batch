{
 "cells": [
  {
   "cell_type": "code",
   "execution_count": null,
   "id": "f0f9141a",
   "metadata": {},
   "outputs": [],
   "source": [
    "1. Abstract Method\n",
    "2. Abstract Class\n",
    "3. Interface\n",
    "4. Public, Private and Protect Members\n",
    "5. __str__() Method\n",
    "6. Difference between str and repr() functions\n",
    "7. Small Banking Application"
   ]
  },
  {
   "cell_type": "markdown",
   "id": "cca7ed53",
   "metadata": {},
   "source": [
    "# 1. Abstract Method"
   ]
  },
  {
   "cell_type": "code",
   "execution_count": null,
   "id": "f0ddcf1b",
   "metadata": {},
   "outputs": [],
   "source": [
    "1. Sometimes we don't know about implementation of method, still we can declare method. Such type of methods are known as abstract \n",
    "methods. Abstract methods has only declaration but no implementation.\n",
    "2. We can declare abstract methods by using @abstractemethod decorator.\n",
    "\n",
    "@abstractmethod\n",
    "def m(self):\n",
    "    pass"
   ]
  },
  {
   "cell_type": "code",
   "execution_count": 7,
   "id": "186e05bf",
   "metadata": {},
   "outputs": [],
   "source": [
    "class Test:\n",
    "    @classmethod\n",
    "    def m(cls):\n",
    "        pass\n",
    "    @staticmethod\n",
    "    def m2():\n",
    "        pass\n",
    "    "
   ]
  },
  {
   "cell_type": "code",
   "execution_count": 5,
   "id": "b96756cc",
   "metadata": {},
   "outputs": [
    {
     "ename": "NameError",
     "evalue": "name 'abstractmethod' is not defined",
     "output_type": "error",
     "traceback": [
      "\u001b[1;31m---------------------------------------------------------------------------\u001b[0m",
      "\u001b[1;31mNameError\u001b[0m                                 Traceback (most recent call last)",
      "\u001b[1;32m<ipython-input-5-d49a7cd5ea0b>\u001b[0m in \u001b[0;36m<module>\u001b[1;34m\u001b[0m\n\u001b[1;32m----> 1\u001b[1;33m \u001b[1;32mclass\u001b[0m \u001b[0mTest\u001b[0m\u001b[1;33m:\u001b[0m\u001b[1;33m\u001b[0m\u001b[1;33m\u001b[0m\u001b[0m\n\u001b[0m\u001b[0;32m      2\u001b[0m     \u001b[1;33m@\u001b[0m\u001b[0mabstractmethod\u001b[0m\u001b[1;33m\u001b[0m\u001b[1;33m\u001b[0m\u001b[0m\n\u001b[0;32m      3\u001b[0m     \u001b[1;32mdef\u001b[0m \u001b[0mm\u001b[0m\u001b[1;33m(\u001b[0m\u001b[0mself\u001b[0m\u001b[1;33m)\u001b[0m\u001b[1;33m:\u001b[0m\u001b[1;33m\u001b[0m\u001b[1;33m\u001b[0m\u001b[0m\n\u001b[0;32m      4\u001b[0m         \u001b[1;32mpass\u001b[0m\u001b[1;33m\u001b[0m\u001b[1;33m\u001b[0m\u001b[0m\n\u001b[0;32m      5\u001b[0m \u001b[1;33m\u001b[0m\u001b[0m\n",
      "\u001b[1;32m<ipython-input-5-d49a7cd5ea0b>\u001b[0m in \u001b[0;36mTest\u001b[1;34m()\u001b[0m\n\u001b[0;32m      1\u001b[0m \u001b[1;32mclass\u001b[0m \u001b[0mTest\u001b[0m\u001b[1;33m:\u001b[0m\u001b[1;33m\u001b[0m\u001b[1;33m\u001b[0m\u001b[0m\n\u001b[1;32m----> 2\u001b[1;33m     \u001b[1;33m@\u001b[0m\u001b[0mabstractmethod\u001b[0m\u001b[1;33m\u001b[0m\u001b[1;33m\u001b[0m\u001b[0m\n\u001b[0m\u001b[0;32m      3\u001b[0m     \u001b[1;32mdef\u001b[0m \u001b[0mm\u001b[0m\u001b[1;33m(\u001b[0m\u001b[0mself\u001b[0m\u001b[1;33m)\u001b[0m\u001b[1;33m:\u001b[0m\u001b[1;33m\u001b[0m\u001b[1;33m\u001b[0m\u001b[0m\n\u001b[0;32m      4\u001b[0m         \u001b[1;32mpass\u001b[0m\u001b[1;33m\u001b[0m\u001b[1;33m\u001b[0m\u001b[0m\n\u001b[0;32m      5\u001b[0m \u001b[1;33m\u001b[0m\u001b[0m\n",
      "\u001b[1;31mNameError\u001b[0m: name 'abstractmethod' is not defined"
     ]
    }
   ],
   "source": [
    "class Test:\n",
    "    @abstractmethod\n",
    "    def m(self):\n",
    "        pass\n",
    "    \n",
    "        "
   ]
  },
  {
   "cell_type": "code",
   "execution_count": null,
   "id": "40858d42",
   "metadata": {},
   "outputs": [],
   "source": [
    "Abstractmethod decorator is defined in abc module. If you try to use without importing abc module it will raise an error."
   ]
  },
  {
   "cell_type": "code",
   "execution_count": 8,
   "id": "154eb806",
   "metadata": {},
   "outputs": [],
   "source": [
    "from abc import*\n",
    "class Test:\n",
    "    @abstractmethod\n",
    "    def m(self):\n",
    "        pass"
   ]
  },
  {
   "cell_type": "markdown",
   "id": "9f9f1aab",
   "metadata": {},
   "source": [
    "# 2. Abstract class"
   ]
  },
  {
   "cell_type": "code",
   "execution_count": null,
   "id": "7b497472",
   "metadata": {},
   "outputs": [],
   "source": [
    "Some time implementation of a class is not complete such type of class are partially implemented are known as abstract class.\n",
    "Which are derived from ABC class which is present in abc module."
   ]
  },
  {
   "cell_type": "code",
   "execution_count": 9,
   "id": "da362ce7",
   "metadata": {},
   "outputs": [],
   "source": [
    "from abc import*\n",
    "class Test:\n",
    "    pass\n",
    "t=Test()"
   ]
  },
  {
   "cell_type": "code",
   "execution_count": 10,
   "id": "79561c85",
   "metadata": {},
   "outputs": [],
   "source": [
    "from abc import*\n",
    "class Test(ABC):\n",
    "    pass\n",
    "t=Test()"
   ]
  },
  {
   "cell_type": "code",
   "execution_count": 11,
   "id": "7a8b9df8",
   "metadata": {},
   "outputs": [
    {
     "ename": "TypeError",
     "evalue": "Can't instantiate abstract class Test with abstract methods m",
     "output_type": "error",
     "traceback": [
      "\u001b[1;31m---------------------------------------------------------------------------\u001b[0m",
      "\u001b[1;31mTypeError\u001b[0m                                 Traceback (most recent call last)",
      "\u001b[1;32m<ipython-input-11-63a6b5358608>\u001b[0m in \u001b[0;36m<module>\u001b[1;34m\u001b[0m\n\u001b[0;32m      4\u001b[0m     \u001b[1;32mdef\u001b[0m \u001b[0mm\u001b[0m\u001b[1;33m(\u001b[0m\u001b[0mself\u001b[0m\u001b[1;33m)\u001b[0m\u001b[1;33m:\u001b[0m\u001b[1;33m\u001b[0m\u001b[1;33m\u001b[0m\u001b[0m\n\u001b[0;32m      5\u001b[0m         \u001b[1;32mpass\u001b[0m\u001b[1;33m\u001b[0m\u001b[1;33m\u001b[0m\u001b[0m\n\u001b[1;32m----> 6\u001b[1;33m \u001b[0mt\u001b[0m\u001b[1;33m=\u001b[0m\u001b[0mTest\u001b[0m\u001b[1;33m(\u001b[0m\u001b[1;33m)\u001b[0m\u001b[1;33m\u001b[0m\u001b[1;33m\u001b[0m\u001b[0m\n\u001b[0m",
      "\u001b[1;31mTypeError\u001b[0m: Can't instantiate abstract class Test with abstract methods m"
     ]
    }
   ],
   "source": [
    "from abc import*\n",
    "class Test(ABC):\n",
    "    @abstractmethod\n",
    "    def m(self):\n",
    "        pass\n",
    "t=Test()"
   ]
  },
  {
   "cell_type": "code",
   "execution_count": 13,
   "id": "ad7e61e0",
   "metadata": {},
   "outputs": [],
   "source": [
    "from abc import*\n",
    "class Test:\n",
    "    @abstractmethod\n",
    "    def m(self):\n",
    "        pass\n",
    "t=Test()"
   ]
  },
  {
   "cell_type": "code",
   "execution_count": null,
   "id": "122cdd92",
   "metadata": {},
   "outputs": [],
   "source": [
    "Abstract class with abstract method instantiation is not possible."
   ]
  },
  {
   "cell_type": "code",
   "execution_count": 16,
   "id": "6d745713",
   "metadata": {},
   "outputs": [
    {
     "ename": "TypeError",
     "evalue": "Can't instantiate abstract class Bus with abstract methods wheels",
     "output_type": "error",
     "traceback": [
      "\u001b[1;31m---------------------------------------------------------------------------\u001b[0m",
      "\u001b[1;31mTypeError\u001b[0m                                 Traceback (most recent call last)",
      "\u001b[1;32m<ipython-input-16-9d7aea38dc3a>\u001b[0m in \u001b[0;36m<module>\u001b[1;34m\u001b[0m\n\u001b[0;32m      6\u001b[0m \u001b[1;32mclass\u001b[0m \u001b[0mBus\u001b[0m\u001b[1;33m(\u001b[0m\u001b[0mVehicle\u001b[0m\u001b[1;33m)\u001b[0m\u001b[1;33m:\u001b[0m\u001b[1;33m\u001b[0m\u001b[1;33m\u001b[0m\u001b[0m\n\u001b[0;32m      7\u001b[0m     \u001b[1;32mpass\u001b[0m\u001b[1;33m\u001b[0m\u001b[1;33m\u001b[0m\u001b[0m\n\u001b[1;32m----> 8\u001b[1;33m \u001b[0mb\u001b[0m\u001b[1;33m=\u001b[0m\u001b[0mBus\u001b[0m\u001b[1;33m(\u001b[0m\u001b[1;33m)\u001b[0m\u001b[1;33m\u001b[0m\u001b[1;33m\u001b[0m\u001b[0m\n\u001b[0m",
      "\u001b[1;31mTypeError\u001b[0m: Can't instantiate abstract class Bus with abstract methods wheels"
     ]
    }
   ],
   "source": [
    "from abc import*\n",
    "class Vehicle(ABC):\n",
    "    @abstractmethod\n",
    "    def wheels(self):\n",
    "        pass\n",
    "class Bus(Vehicle):\n",
    "    pass\n",
    "b=Bus()"
   ]
  },
  {
   "cell_type": "code",
   "execution_count": 18,
   "id": "1ff57327",
   "metadata": {},
   "outputs": [
    {
     "name": "stdout",
     "output_type": "stream",
     "text": [
      "6\n",
      "3\n"
     ]
    }
   ],
   "source": [
    "from abc import*\n",
    "class Vehicle(ABC):\n",
    "    @abstractmethod\n",
    "    def noofwheels(self):\n",
    "        pass\n",
    "class Bus(Vehicle):\n",
    "    def noofwheels(self):\n",
    "        return 6\n",
    "class Auto(Vehicle):\n",
    "    def noofwheels(self):\n",
    "        return 3\n",
    "    \n",
    "b=Bus()\n",
    "print(b.noofwheels())\n",
    "a=Auto()\n",
    "print(a.noofwheels())"
   ]
  },
  {
   "cell_type": "markdown",
   "id": "afc612a8",
   "metadata": {},
   "source": [
    "# Interface in Python"
   ]
  },
  {
   "cell_type": "code",
   "execution_count": null,
   "id": "7331483c",
   "metadata": {},
   "outputs": [],
   "source": [
    "an abstract class contains only abstract methods such type of abstract class is known as interface."
   ]
  },
  {
   "cell_type": "code",
   "execution_count": 20,
   "id": "8cb8e904",
   "metadata": {},
   "outputs": [
    {
     "name": "stdout",
     "output_type": "stream",
     "text": [
      "Enter Database nameSybase\n",
      "Connecting to Sybase Database\n",
      "Disconnecting from subase database\n"
     ]
    }
   ],
   "source": [
    "from abc import*\n",
    "class DBInterface(ABC):\n",
    "    @abstractmethod\n",
    "    def connect(self):\n",
    "        pass\n",
    "    @abstractmethod\n",
    "    def disconnect(self):\n",
    "        pass\n",
    "class Oracle(DBInterface):\n",
    "    def connect(self):\n",
    "        print(\"Connecting to Oracle Database\")\n",
    "    def disconnect(self):\n",
    "        print(\"Disconnecting Oracle Database\")\n",
    "class Sybase(DBInterface):\n",
    "    def connect(self):\n",
    "        print(\"Connecting to Sybase Database\")\n",
    "    def disconnect(self):\n",
    "        print(\"Disconnecting from subase database\")\n",
    "        \n",
    "dbname=input(\"Enter Database name\")\n",
    "classname=globals()[dbname]\n",
    "x=classname()\n",
    "x.connect()\n",
    "x.disconnect()"
   ]
  },
  {
   "cell_type": "code",
   "execution_count": null,
   "id": "605fd8c9",
   "metadata": {},
   "outputs": [],
   "source": [
    "first create config.txt file and save that file in same folder where we are going to save this program."
   ]
  },
  {
   "cell_type": "code",
   "execution_count": 22,
   "id": "060f3234",
   "metadata": {},
   "outputs": [
    {
     "name": "stdout",
     "output_type": "stream",
     "text": [
      "Printing the file from HP Printer\n",
      "This data has to print.....\n",
      "Printing completed on HP Printer\n"
     ]
    }
   ],
   "source": [
    "from abc import*\n",
    "class Printer(ABC):\n",
    "    @abstractmethod\n",
    "    def printit(self,text):\n",
    "        pass\n",
    "    @abstractmethod\n",
    "    def disconnect(self):\n",
    "        pass\n",
    "class SAMSUNG(Printer):\n",
    "    def printit(self,text):\n",
    "        print(\"Printing the file from SAMSUNG Printer\")\n",
    "        print(text)\n",
    "    def disconnect(self):\n",
    "        print(\"Printing completed on Samsung printer\")\n",
    "class HP(Printer):\n",
    "    def printit(self,text):\n",
    "        print(\"Printing the file from HP Printer\")\n",
    "        print(text)\n",
    "    def disconnect(self):\n",
    "        print(\"Printing completed on HP Printer\")\n",
    "\n",
    "\n",
    "with open('config.txt','r') as f:\n",
    "    pname=f.readline()\n",
    "classname=globals()[pname]\n",
    "x=classname()\n",
    "x.printit(\"This data has to print.....\")\n",
    "x.disconnect()\n"
   ]
  },
  {
   "cell_type": "markdown",
   "id": "1e3497da",
   "metadata": {},
   "source": [
    "# Concreate Class vs Abstract Class Vs Interface"
   ]
  },
  {
   "cell_type": "code",
   "execution_count": null,
   "id": "060c07c8",
   "metadata": {},
   "outputs": [],
   "source": [
    "1. If we dont know anything about implementation just we have requirement specification then we should \n",
    "go for interface.\n",
    "2. If we are talking about implementation but not completely then should go for abstract class.\n",
    "(partially implemented class)\n",
    "3. If we are talking about implementation completely and ready to provide service then we should go\n",
    "for concreate class."
   ]
  },
  {
   "cell_type": "code",
   "execution_count": 1,
   "id": "b521843b",
   "metadata": {},
   "outputs": [
    {
     "name": "stdout",
     "output_type": "stream",
     "text": [
      "m1 method implementation\n",
      "m2 method implementation\n",
      "m3 method implementation\n"
     ]
    }
   ],
   "source": [
    "#example program\n",
    "from abc import*\n",
    "class CollegeAutomation(ABC):\n",
    "    @abstractmethod\n",
    "    def m1(self):\n",
    "        pass\n",
    "    @abstractmethod\n",
    "    def m2(self):\n",
    "        pass\n",
    "    @abstractmethod\n",
    "    def m3(self):\n",
    "        pass\n",
    "class AbsCls(CollegeAutomation):\n",
    "    def m1(self):\n",
    "        print(\"m1 method implementation\")\n",
    "    def m2(self):\n",
    "        print(\"m2 method implementation\")\n",
    "class Concreatecls(AbsCls):\n",
    "    def m3(self):\n",
    "        print(\"m3 method implementation\")\n",
    "c=Concreatecls()\n",
    "c.m1()\n",
    "c.m2()\n",
    "c.m3()"
   ]
  },
  {
   "cell_type": "markdown",
   "id": "4258327e",
   "metadata": {},
   "source": [
    "# public,Protected and Private Attributes:"
   ]
  },
  {
   "cell_type": "code",
   "execution_count": 5,
   "id": "11d9d42a",
   "metadata": {},
   "outputs": [
    {
     "ename": "AttributeError",
     "evalue": "'Test' object has no attribute 'm'",
     "output_type": "error",
     "traceback": [
      "\u001b[1;31m---------------------------------------------------------------------------\u001b[0m",
      "\u001b[1;31mAttributeError\u001b[0m                            Traceback (most recent call last)",
      "\u001b[1;32m<ipython-input-5-28edc74aa5a4>\u001b[0m in \u001b[0;36m<module>\u001b[1;34m\u001b[0m\n\u001b[0;32m      3\u001b[0m         \u001b[0mprint\u001b[0m\u001b[1;33m(\u001b[0m\u001b[1;34m\"Class\"\u001b[0m\u001b[1;33m)\u001b[0m\u001b[1;33m\u001b[0m\u001b[1;33m\u001b[0m\u001b[0m\n\u001b[0;32m      4\u001b[0m \u001b[0mt\u001b[0m\u001b[1;33m=\u001b[0m\u001b[0mTest\u001b[0m\u001b[1;33m(\u001b[0m\u001b[1;33m)\u001b[0m\u001b[1;33m\u001b[0m\u001b[1;33m\u001b[0m\u001b[0m\n\u001b[1;32m----> 5\u001b[1;33m \u001b[0mt\u001b[0m\u001b[1;33m.\u001b[0m\u001b[0mm\u001b[0m\u001b[1;33m(\u001b[0m\u001b[1;33m)\u001b[0m\u001b[1;33m\u001b[0m\u001b[1;33m\u001b[0m\u001b[0m\n\u001b[0m\u001b[0;32m      6\u001b[0m \u001b[0mprint\u001b[0m\u001b[1;33m(\u001b[0m\u001b[0ma\u001b[0m\u001b[1;33m)\u001b[0m\u001b[1;33m\u001b[0m\u001b[1;33m\u001b[0m\u001b[0m\n",
      "\u001b[1;31mAttributeError\u001b[0m: 'Test' object has no attribute 'm'"
     ]
    }
   ],
   "source": [
    "class Test:\n",
    "    def m1(self):\n",
    "        print(\"Class\")\n",
    "t=Test()\n",
    "t.m()\n",
    "print(a)"
   ]
  },
  {
   "cell_type": "code",
   "execution_count": null,
   "id": "9fb75a7e",
   "metadata": {},
   "outputs": [],
   "source": [
    "By default every attribute in python is public. We can access from anywhere either within the class or \n",
    "from outside of the class.\n",
    "Example: \n",
    "    name=\"Venky\""
   ]
  },
  {
   "cell_type": "code",
   "execution_count": null,
   "id": "636dfdff",
   "metadata": {},
   "outputs": [],
   "source": [
    "Protected attributes can be accessed within the class anywhere, but from outside we can access in only\n",
    "childclass. \n",
    "Protected attributes are created by using _ as prefex.\n",
    "\n",
    "Syntax: \n",
    "    \n",
    "    _variablename=value\n",
    "    \n",
    "    example: _name=\"Venky\""
   ]
  },
  {
   "cell_type": "code",
   "execution_count": null,
   "id": "7f5c01a9",
   "metadata": {},
   "outputs": [],
   "source": [
    "private attributes can be accessed only within the class. We cannot access from outside of the class.\n",
    "We create private attributes prefix with __ (two underscores)\n",
    "\n",
    "Syntax:\n",
    "    __variablename=value\n",
    "    \n",
    "    Example: \n",
    "        __name=\"Venky\""
   ]
  },
  {
   "cell_type": "code",
   "execution_count": 9,
   "id": "621d9787",
   "metadata": {},
   "outputs": [
    {
     "name": "stdout",
     "output_type": "stream",
     "text": [
      "10\n",
      "20\n",
      "30\n",
      "10\n",
      "20\n"
     ]
    },
    {
     "ename": "AttributeError",
     "evalue": "type object 'Test' has no attribute '__z'",
     "output_type": "error",
     "traceback": [
      "\u001b[1;31m---------------------------------------------------------------------------\u001b[0m",
      "\u001b[1;31mAttributeError\u001b[0m                            Traceback (most recent call last)",
      "\u001b[1;32m<ipython-input-9-28c9017676be>\u001b[0m in \u001b[0;36m<module>\u001b[1;34m\u001b[0m\n\u001b[0;32m     13\u001b[0m \u001b[0mprint\u001b[0m\u001b[1;33m(\u001b[0m\u001b[0mTest\u001b[0m\u001b[1;33m.\u001b[0m\u001b[0mx\u001b[0m\u001b[1;33m)\u001b[0m\u001b[1;33m\u001b[0m\u001b[1;33m\u001b[0m\u001b[0m\n\u001b[0;32m     14\u001b[0m \u001b[0mprint\u001b[0m\u001b[1;33m(\u001b[0m\u001b[0mTest\u001b[0m\u001b[1;33m.\u001b[0m\u001b[0m_y\u001b[0m\u001b[1;33m)\u001b[0m\u001b[1;33m\u001b[0m\u001b[1;33m\u001b[0m\u001b[0m\n\u001b[1;32m---> 15\u001b[1;33m \u001b[0mprint\u001b[0m\u001b[1;33m(\u001b[0m\u001b[0mTest\u001b[0m\u001b[1;33m.\u001b[0m\u001b[0m__z\u001b[0m\u001b[1;33m)\u001b[0m\u001b[1;33m\u001b[0m\u001b[1;33m\u001b[0m\u001b[0m\n\u001b[0m\u001b[0;32m     16\u001b[0m \u001b[1;33m\u001b[0m\u001b[0m\n",
      "\u001b[1;31mAttributeError\u001b[0m: type object 'Test' has no attribute '__z'"
     ]
    }
   ],
   "source": [
    "#example\n",
    "class Test:\n",
    "    x=10 #public\n",
    "    _y=20 #protected \n",
    "    __z=30 #private\n",
    "    def m1(self):\n",
    "        print(Test.x)\n",
    "        print(Test._y)\n",
    "        print(Test.__z)\n",
    "        \n",
    "t=Test()\n",
    "t.m1()\n",
    "print(Test.x)\n",
    "print(Test._y)\n",
    "print(Test.__z)\n",
    "    "
   ]
  },
  {
   "cell_type": "code",
   "execution_count": 13,
   "id": "88d5c9d9",
   "metadata": {},
   "outputs": [
    {
     "name": "stdout",
     "output_type": "stream",
     "text": [
      "10\n",
      "20\n",
      "30\n"
     ]
    },
    {
     "ename": "AttributeError",
     "evalue": "'Train' object has no attribute '_y'",
     "output_type": "error",
     "traceback": [
      "\u001b[1;31m---------------------------------------------------------------------------\u001b[0m",
      "\u001b[1;31mAttributeError\u001b[0m                            Traceback (most recent call last)",
      "\u001b[1;32m<ipython-input-13-1bdc73d8e2b7>\u001b[0m in \u001b[0;36m<module>\u001b[1;34m\u001b[0m\n\u001b[0;32m     15\u001b[0m \u001b[0mt\u001b[0m\u001b[1;33m.\u001b[0m\u001b[0mm1\u001b[0m\u001b[1;33m(\u001b[0m\u001b[1;33m)\u001b[0m\u001b[1;33m\u001b[0m\u001b[1;33m\u001b[0m\u001b[0m\n\u001b[0;32m     16\u001b[0m \u001b[0mt2\u001b[0m\u001b[1;33m=\u001b[0m\u001b[0mTrain\u001b[0m\u001b[1;33m(\u001b[0m\u001b[1;33m)\u001b[0m\u001b[1;33m\u001b[0m\u001b[1;33m\u001b[0m\u001b[0m\n\u001b[1;32m---> 17\u001b[1;33m \u001b[0mt2\u001b[0m\u001b[1;33m.\u001b[0m\u001b[0mm2\u001b[0m\u001b[1;33m(\u001b[0m\u001b[1;33m)\u001b[0m\u001b[1;33m\u001b[0m\u001b[1;33m\u001b[0m\u001b[0m\n\u001b[0m\u001b[0;32m     18\u001b[0m '''print(Test.x)\n\u001b[0;32m     19\u001b[0m \u001b[0mprint\u001b[0m\u001b[1;33m(\u001b[0m\u001b[0mTest\u001b[0m\u001b[1;33m.\u001b[0m\u001b[0m_y\u001b[0m\u001b[1;33m)\u001b[0m\u001b[1;33m\u001b[0m\u001b[1;33m\u001b[0m\u001b[0m\n",
      "\u001b[1;32m<ipython-input-13-1bdc73d8e2b7>\u001b[0m in \u001b[0;36mm2\u001b[1;34m(self)\u001b[0m\n\u001b[0;32m     10\u001b[0m \u001b[1;32mclass\u001b[0m \u001b[0mTrain\u001b[0m\u001b[1;33m:\u001b[0m\u001b[1;33m\u001b[0m\u001b[1;33m\u001b[0m\u001b[0m\n\u001b[0;32m     11\u001b[0m     \u001b[1;32mdef\u001b[0m \u001b[0mm2\u001b[0m\u001b[1;33m(\u001b[0m\u001b[0mself\u001b[0m\u001b[1;33m)\u001b[0m\u001b[1;33m:\u001b[0m\u001b[1;33m\u001b[0m\u001b[1;33m\u001b[0m\u001b[0m\n\u001b[1;32m---> 12\u001b[1;33m         \u001b[0mprint\u001b[0m\u001b[1;33m(\u001b[0m\u001b[0mself\u001b[0m\u001b[1;33m.\u001b[0m\u001b[0m_y\u001b[0m\u001b[1;33m)\u001b[0m\u001b[1;33m\u001b[0m\u001b[1;33m\u001b[0m\u001b[0m\n\u001b[0m\u001b[0;32m     13\u001b[0m \u001b[1;33m\u001b[0m\u001b[0m\n\u001b[0;32m     14\u001b[0m \u001b[0mt\u001b[0m\u001b[1;33m=\u001b[0m\u001b[0mTest\u001b[0m\u001b[1;33m(\u001b[0m\u001b[1;33m)\u001b[0m\u001b[1;33m\u001b[0m\u001b[1;33m\u001b[0m\u001b[0m\n",
      "\u001b[1;31mAttributeError\u001b[0m: 'Train' object has no attribute '_y'"
     ]
    }
   ],
   "source": [
    "#example\n",
    "class Test:\n",
    "    x=10 #public\n",
    "    _y=20 #protected \n",
    "    __z=30 #private\n",
    "    def m1(self):\n",
    "        print(Test.x)\n",
    "        print(Test._y)\n",
    "        print(Test.__z)\n",
    "class Train:\n",
    "    def m2(self):\n",
    "        print(self._y)\n",
    "        \n",
    "t=Test()\n",
    "t.m1()\n",
    "t2=Train()\n",
    "t2.m2()\n",
    "'''print(Test.x)\n",
    "print(Test._y)\n",
    "print(Test.__z) '''\n",
    "    "
   ]
  },
  {
   "cell_type": "code",
   "execution_count": 17,
   "id": "1cb2c561",
   "metadata": {},
   "outputs": [
    {
     "name": "stdout",
     "output_type": "stream",
     "text": [
      "10\n",
      "20\n",
      "30\n",
      "20\n"
     ]
    },
    {
     "data": {
      "text/plain": [
       "'print(Test.x)\\nprint(Test._y)\\nprint(Test.__z) '"
      ]
     },
     "execution_count": 17,
     "metadata": {},
     "output_type": "execute_result"
    }
   ],
   "source": [
    "#example\n",
    "class Test:\n",
    "    x=10 #public\n",
    "    _y=20 #protected \n",
    "    __z=30 #private\n",
    "    def m1(self):\n",
    "        print(Test.x)\n",
    "        print(Test._y)\n",
    "        print(Test.__z)\n",
    "class Train(Test):\n",
    "    def m2(self):\n",
    "        print(self._y)\n",
    "       \n",
    "        \n",
    "t=Test()\n",
    "t.m1()\n",
    "t2=Train()\n",
    "t2.m2()\n",
    "'''print(Test.x)\n",
    "print(Test._y)\n",
    "print(Test.__z) '''\n",
    "    "
   ]
  },
  {
   "cell_type": "code",
   "execution_count": null,
   "id": "267fe4ea",
   "metadata": {},
   "outputs": [],
   "source": []
  },
  {
   "cell_type": "code",
   "execution_count": 16,
   "id": "8931c1f9",
   "metadata": {},
   "outputs": [
    {
     "name": "stdout",
     "output_type": "stream",
     "text": [
      "10\n",
      "20\n",
      "30\n",
      "20\n"
     ]
    },
    {
     "ename": "AttributeError",
     "evalue": "'Train' object has no attribute '_Train__z'",
     "output_type": "error",
     "traceback": [
      "\u001b[1;31m---------------------------------------------------------------------------\u001b[0m",
      "\u001b[1;31mAttributeError\u001b[0m                            Traceback (most recent call last)",
      "\u001b[1;32m<ipython-input-16-fef81683b8b4>\u001b[0m in \u001b[0;36m<module>\u001b[1;34m\u001b[0m\n\u001b[0;32m     17\u001b[0m \u001b[0mt\u001b[0m\u001b[1;33m.\u001b[0m\u001b[0mm1\u001b[0m\u001b[1;33m(\u001b[0m\u001b[1;33m)\u001b[0m\u001b[1;33m\u001b[0m\u001b[1;33m\u001b[0m\u001b[0m\n\u001b[0;32m     18\u001b[0m \u001b[0mt2\u001b[0m\u001b[1;33m=\u001b[0m\u001b[0mTrain\u001b[0m\u001b[1;33m(\u001b[0m\u001b[1;33m)\u001b[0m\u001b[1;33m\u001b[0m\u001b[1;33m\u001b[0m\u001b[0m\n\u001b[1;32m---> 19\u001b[1;33m \u001b[0mt2\u001b[0m\u001b[1;33m.\u001b[0m\u001b[0mm2\u001b[0m\u001b[1;33m(\u001b[0m\u001b[1;33m)\u001b[0m\u001b[1;33m\u001b[0m\u001b[1;33m\u001b[0m\u001b[0m\n\u001b[0m\u001b[0;32m     20\u001b[0m '''print(Test.x)\n\u001b[0;32m     21\u001b[0m \u001b[0mprint\u001b[0m\u001b[1;33m(\u001b[0m\u001b[0mTest\u001b[0m\u001b[1;33m.\u001b[0m\u001b[0m_y\u001b[0m\u001b[1;33m)\u001b[0m\u001b[1;33m\u001b[0m\u001b[1;33m\u001b[0m\u001b[0m\n",
      "\u001b[1;32m<ipython-input-16-fef81683b8b4>\u001b[0m in \u001b[0;36mm2\u001b[1;34m(self)\u001b[0m\n\u001b[0;32m     11\u001b[0m     \u001b[1;32mdef\u001b[0m \u001b[0mm2\u001b[0m\u001b[1;33m(\u001b[0m\u001b[0mself\u001b[0m\u001b[1;33m)\u001b[0m\u001b[1;33m:\u001b[0m\u001b[1;33m\u001b[0m\u001b[1;33m\u001b[0m\u001b[0m\n\u001b[0;32m     12\u001b[0m         \u001b[0mprint\u001b[0m\u001b[1;33m(\u001b[0m\u001b[0mself\u001b[0m\u001b[1;33m.\u001b[0m\u001b[0m_y\u001b[0m\u001b[1;33m)\u001b[0m\u001b[1;33m\u001b[0m\u001b[1;33m\u001b[0m\u001b[0m\n\u001b[1;32m---> 13\u001b[1;33m         \u001b[0mprint\u001b[0m\u001b[1;33m(\u001b[0m\u001b[0mself\u001b[0m\u001b[1;33m.\u001b[0m\u001b[0m__z\u001b[0m\u001b[1;33m)\u001b[0m\u001b[1;33m\u001b[0m\u001b[1;33m\u001b[0m\u001b[0m\n\u001b[0m\u001b[0;32m     14\u001b[0m \u001b[1;33m\u001b[0m\u001b[0m\n\u001b[0;32m     15\u001b[0m \u001b[1;33m\u001b[0m\u001b[0m\n",
      "\u001b[1;31mAttributeError\u001b[0m: 'Train' object has no attribute '_Train__z'"
     ]
    }
   ],
   "source": [
    "#example\n",
    "class Test:\n",
    "    x=10 #public\n",
    "    _y=20 #protected \n",
    "    __z=30 #private\n",
    "    def m1(self):\n",
    "        print(Test.x)\n",
    "        print(Test._y)\n",
    "        print(Test.__z)\n",
    "class Train(Test):\n",
    "    def m2(self):\n",
    "        print(self._y)\n",
    "        print(self.__z)\n",
    "       \n",
    "        \n",
    "t=Test()\n",
    "t.m1()\n",
    "t2=Train()\n",
    "t2.m2()\n",
    "'''print(Test.x)\n",
    "print(Test._y)\n",
    "print(Test.__z) '''"
   ]
  },
  {
   "cell_type": "markdown",
   "id": "f443da0e",
   "metadata": {},
   "source": [
    "# How to access Private Attributes from outside of the class:"
   ]
  },
  {
   "cell_type": "code",
   "execution_count": null,
   "id": "76500ece",
   "metadata": {},
   "outputs": [],
   "source": [
    "We cannot access private variables directly from outside of the class.\n",
    "But we can access indirectly from outside of the class.\n",
    "\n",
    "Ojectreferencvariable._classname__Vaariablename\n"
   ]
  },
  {
   "cell_type": "code",
   "execution_count": 19,
   "id": "fb2536a0",
   "metadata": {},
   "outputs": [
    {
     "name": "stdout",
     "output_type": "stream",
     "text": [
      "10\n"
     ]
    }
   ],
   "source": [
    "class Test:\n",
    "    def __init__(self):\n",
    "        self.__x=10\n",
    "t=Test()\n",
    "print(t._Test__x)"
   ]
  },
  {
   "cell_type": "markdown",
   "id": "00dd6c3c",
   "metadata": {},
   "source": [
    "# __str__() Method"
   ]
  },
  {
   "cell_type": "code",
   "execution_count": null,
   "id": "6be57e0a",
   "metadata": {},
   "outputs": [],
   "source": [
    "__str__()  is used to print where the object reference is located internally. \n",
    "\n",
    "<__main__.classname object at 0x00220435f1>"
   ]
  },
  {
   "cell_type": "code",
   "execution_count": 23,
   "id": "83a10c43",
   "metadata": {},
   "outputs": [
    {
     "name": "stdout",
     "output_type": "stream",
     "text": [
      "<__main__.Student object at 0x0000013B4B6D5250>\n"
     ]
    }
   ],
   "source": [
    "class Student:\n",
    "    def __init__(self,name,rollno):\n",
    "        self.name=name\n",
    "        self.rollno=rollno\n",
    "    \n",
    "s1=Student(\"Venky\",1024)\n",
    "print(s1)"
   ]
  },
  {
   "cell_type": "code",
   "execution_count": 24,
   "id": "068ac667",
   "metadata": {},
   "outputs": [
    {
     "name": "stdout",
     "output_type": "stream",
     "text": [
      "This is student name:Venky and rollno: 1024\n"
     ]
    }
   ],
   "source": [
    "class Student:\n",
    "    def __init__(self,name,rollno):\n",
    "        self.name=name\n",
    "        self.rollno=rollno\n",
    "    def __str__(self):\n",
    "        return \"This is student name:{} and rollno: {}\".format(self.name,self.rollno)\n",
    "s1=Student(\"Venky\",1024)\n",
    "print(s1)"
   ]
  },
  {
   "cell_type": "markdown",
   "id": "287dc61a",
   "metadata": {},
   "source": [
    "# str vs repr()"
   ]
  },
  {
   "cell_type": "code",
   "execution_count": 26,
   "id": "447a6efd",
   "metadata": {},
   "outputs": [
    {
     "name": "stdout",
     "output_type": "stream",
     "text": [
      "2021-06-09 16:56:13.698294\n"
     ]
    },
    {
     "ename": "SyntaxError",
     "evalue": "leading zeros in decimal integer literals are not permitted; use an 0o prefix for octal integers (<string>, line 1)",
     "output_type": "error",
     "traceback": [
      "Traceback \u001b[1;36m(most recent call last)\u001b[0m:\n",
      "  File \u001b[0;32m\"C:\\Users\\MYPC\\anaconda3\\lib\\site-packages\\IPython\\core\\interactiveshell.py\"\u001b[0m, line \u001b[0;32m3437\u001b[0m, in \u001b[0;35mrun_code\u001b[0m\n    exec(code_obj, self.user_global_ns, self.user_ns)\n",
      "\u001b[1;36m  File \u001b[1;32m\"<ipython-input-26-2cec1be4e027>\"\u001b[1;36m, line \u001b[1;32m6\u001b[1;36m, in \u001b[1;35m<module>\u001b[1;36m\u001b[0m\n\u001b[1;33m    d=eval(s)\u001b[0m\n",
      "\u001b[1;36m  File \u001b[1;32m\"<string>\"\u001b[1;36m, line \u001b[1;32m1\u001b[0m\n\u001b[1;33m    2021-06-09 16:56:13.698294\u001b[0m\n\u001b[1;37m          ^\u001b[0m\n\u001b[1;31mSyntaxError\u001b[0m\u001b[1;31m:\u001b[0m leading zeros in decimal integer literals are not permitted; use an 0o prefix for octal integers\n"
     ]
    }
   ],
   "source": [
    "#example program\n",
    "import datetime\n",
    "today=datetime.datetime.now()\n",
    "s=str(today)\n",
    "print(s)\n",
    "d=eval(s)"
   ]
  },
  {
   "cell_type": "code",
   "execution_count": 27,
   "id": "eb76398c",
   "metadata": {},
   "outputs": [
    {
     "name": "stdout",
     "output_type": "stream",
     "text": [
      "datetime.datetime(2021, 6, 9, 16, 56, 58, 286941)\n"
     ]
    }
   ],
   "source": [
    "import datetime\n",
    "today=datetime.datetime.now()\n",
    "s=repr(today)\n",
    "print(s)\n",
    "d=eval(s)"
   ]
  },
  {
   "cell_type": "code",
   "execution_count": 30,
   "id": "e274551c",
   "metadata": {},
   "outputs": [
    {
     "ename": "SyntaxError",
     "evalue": "leading zeros in decimal integer literals are not permitted; use an 0o prefix for octal integers (<ipython-input-30-01dd0cc9e0ce>, line 1)",
     "output_type": "error",
     "traceback": [
      "\u001b[1;36m  File \u001b[1;32m\"<ipython-input-30-01dd0cc9e0ce>\"\u001b[1;36m, line \u001b[1;32m1\u001b[0m\n\u001b[1;33m    x=073\u001b[0m\n\u001b[1;37m        ^\u001b[0m\n\u001b[1;31mSyntaxError\u001b[0m\u001b[1;31m:\u001b[0m leading zeros in decimal integer literals are not permitted; use an 0o prefix for octal integers\n"
     ]
    }
   ],
   "source": [
    "x=073"
   ]
  },
  {
   "cell_type": "markdown",
   "id": "496d090f",
   "metadata": {},
   "source": [
    "# Mini Project"
   ]
  },
  {
   "cell_type": "code",
   "execution_count": 37,
   "id": "8b3f74f0",
   "metadata": {},
   "outputs": [
    {
     "name": "stdout",
     "output_type": "stream",
     "text": [
      "Venkys savings account with balance:10000\n",
      "Venkys savings account with balance:15000\n",
      "Venkys savings account with balance:45000\n",
      "Venkys savings account with balance:21000\n",
      "Venkys savings account with balance:0\n",
      "Sorry.. Insufficient funds....\n",
      "Venkys savings account with balance:0\n"
     ]
    }
   ],
   "source": [
    "class Account:\n",
    "    def __init__(self,name,balance,min_balance):\n",
    "        self.name=name\n",
    "        self.balance=balance\n",
    "        self.min_balance=min_balance\n",
    "    def deposit(self,amount):\n",
    "        self.balance=self.balance+amount\n",
    "    def withdraw(self,amount):\n",
    "        if self.balance-amount>=self.min_balance:\n",
    "            self.balance=self.balance-amount\n",
    "        else:\n",
    "            print(\"Sorry.. Insufficient funds....\")\n",
    "    def printstatement(self):\n",
    "        print(\"Account Balance is:\",self.balance)\n",
    "class Current(Account):\n",
    "    def __init__(self,name,balance):\n",
    "        super().__init__(name,balance,min_balance=10000)\n",
    "    def __str__(self):\n",
    "        return \"{}s current account with balance:{}\".format(self.name,self.balance)\n",
    "\n",
    "class Savings(Account):\n",
    "    def __init__(self,name,balance):\n",
    "        super().__init__(name,balance,min_balance=0)\n",
    "    def __str__(self):\n",
    "        return \"{}s savings account with balance:{}\".format(self.name,self.balance)\n",
    "    \n",
    "c=Savings(\"Venky\",10000)\n",
    "print(c)\n",
    "c.deposit(5000)\n",
    "print(c)\n",
    "c.deposit(30000)\n",
    "print(c)\n",
    "c.withdraw(24000)\n",
    "print(c)\n",
    "c.withdraw(21000)\n",
    "print(c)\n",
    "c.withdraw(5000)\n",
    "print(c)\n",
    "        "
   ]
  },
  {
   "cell_type": "code",
   "execution_count": 44,
   "id": "fede47c9",
   "metadata": {},
   "outputs": [
    {
     "name": "stdout",
     "output_type": "stream",
     "text": [
      "Sureshs current account with balance:10000\n",
      "Sureshs current account with balance:60000\n",
      "Sureshs current account with balance:54000\n"
     ]
    }
   ],
   "source": [
    "class Account:\n",
    "    def __init__(self,name,balance,min_balance):\n",
    "        self.name=name\n",
    "        self.balance=balance\n",
    "        self.min_balance=min_balance\n",
    "    def deposit(self,amount):\n",
    "        self.balance=self.balance+amount\n",
    "    def withdraw(self,amount):\n",
    "        if self.balance-amount>=self.min_balance:\n",
    "            self.balance=self.balance-amount\n",
    "        else:\n",
    "            print(\"Sorry.. Insufficient funds....\")\n",
    "    def printstatement(self):\n",
    "        print(\"Account Balance is:\",self.balance)\n",
    "class Current(Account):\n",
    "    def __init__(self,name,balance):\n",
    "        super().__init__(name,balance,min_balance=10000)\n",
    "    def __str__(self):\n",
    "        return \"{}s current account with balance:{}\".format(self.name,self.balance)\n",
    "\n",
    "class Savings(Account):\n",
    "    def __init__(self,name,balance):\n",
    "        super().__init__(name,balance,min_balance=0)\n",
    "    def __str__(self):\n",
    "        return \"{}s savings account with balance:{}\".format(self.name,self.balance)\n",
    "    \n",
    "c=Current(\"Suresh\",10000)\n",
    "print(c)\n",
    "c.deposit(50000)\n",
    "print(c)\n",
    "c.withdraw(6000)\n",
    "print(c)"
   ]
  }
 ],
 "metadata": {
  "kernelspec": {
   "display_name": "Python 3",
   "language": "python",
   "name": "python3"
  },
  "language_info": {
   "codemirror_mode": {
    "name": "ipython",
    "version": 3
   },
   "file_extension": ".py",
   "mimetype": "text/x-python",
   "name": "python",
   "nbconvert_exporter": "python",
   "pygments_lexer": "ipython3",
   "version": "3.8.8"
  }
 },
 "nbformat": 4,
 "nbformat_minor": 5
}
