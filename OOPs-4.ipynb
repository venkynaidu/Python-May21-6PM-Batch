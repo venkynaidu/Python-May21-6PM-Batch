{
 "cells": [
  {
   "cell_type": "code",
   "execution_count": null,
   "id": "f0f9141a",
   "metadata": {},
   "outputs": [],
   "source": [
    "1. Abstract Method\n",
    "2. Abstract Class\n",
    "3. Interface\n",
    "4. Public, Private and Protect Members\n",
    "5. __str__() Method\n",
    "6. Difference between str and repr() functions\n",
    "7. Small Banking Application"
   ]
  },
  {
   "cell_type": "markdown",
   "id": "cca7ed53",
   "metadata": {},
   "source": [
    "# 1. Abstract Method"
   ]
  },
  {
   "cell_type": "code",
   "execution_count": null,
   "id": "f0ddcf1b",
   "metadata": {},
   "outputs": [],
   "source": [
    "1. Sometimes we don't know about implementation of method, still we can declare method. Such type of methods are known as abstract \n",
    "methods. Abstract methods has only declaration but no implementation.\n",
    "2. We can declare abstract methods by using @abstractemethod decorator.\n",
    "\n",
    "@abstractmethod\n",
    "def m(self):\n",
    "    pass"
   ]
  },
  {
   "cell_type": "code",
   "execution_count": 7,
   "id": "186e05bf",
   "metadata": {},
   "outputs": [],
   "source": [
    "class Test:\n",
    "    @classmethod\n",
    "    def m(cls):\n",
    "        pass\n",
    "    @staticmethod\n",
    "    def m2():\n",
    "        pass\n",
    "    "
   ]
  },
  {
   "cell_type": "code",
   "execution_count": 5,
   "id": "b96756cc",
   "metadata": {},
   "outputs": [
    {
     "ename": "NameError",
     "evalue": "name 'abstractmethod' is not defined",
     "output_type": "error",
     "traceback": [
      "\u001b[1;31m---------------------------------------------------------------------------\u001b[0m",
      "\u001b[1;31mNameError\u001b[0m                                 Traceback (most recent call last)",
      "\u001b[1;32m<ipython-input-5-d49a7cd5ea0b>\u001b[0m in \u001b[0;36m<module>\u001b[1;34m\u001b[0m\n\u001b[1;32m----> 1\u001b[1;33m \u001b[1;32mclass\u001b[0m \u001b[0mTest\u001b[0m\u001b[1;33m:\u001b[0m\u001b[1;33m\u001b[0m\u001b[1;33m\u001b[0m\u001b[0m\n\u001b[0m\u001b[0;32m      2\u001b[0m     \u001b[1;33m@\u001b[0m\u001b[0mabstractmethod\u001b[0m\u001b[1;33m\u001b[0m\u001b[1;33m\u001b[0m\u001b[0m\n\u001b[0;32m      3\u001b[0m     \u001b[1;32mdef\u001b[0m \u001b[0mm\u001b[0m\u001b[1;33m(\u001b[0m\u001b[0mself\u001b[0m\u001b[1;33m)\u001b[0m\u001b[1;33m:\u001b[0m\u001b[1;33m\u001b[0m\u001b[1;33m\u001b[0m\u001b[0m\n\u001b[0;32m      4\u001b[0m         \u001b[1;32mpass\u001b[0m\u001b[1;33m\u001b[0m\u001b[1;33m\u001b[0m\u001b[0m\n\u001b[0;32m      5\u001b[0m \u001b[1;33m\u001b[0m\u001b[0m\n",
      "\u001b[1;32m<ipython-input-5-d49a7cd5ea0b>\u001b[0m in \u001b[0;36mTest\u001b[1;34m()\u001b[0m\n\u001b[0;32m      1\u001b[0m \u001b[1;32mclass\u001b[0m \u001b[0mTest\u001b[0m\u001b[1;33m:\u001b[0m\u001b[1;33m\u001b[0m\u001b[1;33m\u001b[0m\u001b[0m\n\u001b[1;32m----> 2\u001b[1;33m     \u001b[1;33m@\u001b[0m\u001b[0mabstractmethod\u001b[0m\u001b[1;33m\u001b[0m\u001b[1;33m\u001b[0m\u001b[0m\n\u001b[0m\u001b[0;32m      3\u001b[0m     \u001b[1;32mdef\u001b[0m \u001b[0mm\u001b[0m\u001b[1;33m(\u001b[0m\u001b[0mself\u001b[0m\u001b[1;33m)\u001b[0m\u001b[1;33m:\u001b[0m\u001b[1;33m\u001b[0m\u001b[1;33m\u001b[0m\u001b[0m\n\u001b[0;32m      4\u001b[0m         \u001b[1;32mpass\u001b[0m\u001b[1;33m\u001b[0m\u001b[1;33m\u001b[0m\u001b[0m\n\u001b[0;32m      5\u001b[0m \u001b[1;33m\u001b[0m\u001b[0m\n",
      "\u001b[1;31mNameError\u001b[0m: name 'abstractmethod' is not defined"
     ]
    }
   ],
   "source": [
    "class Test:\n",
    "    @abstractmethod\n",
    "    def m(self):\n",
    "        pass\n",
    "    \n",
    "        "
   ]
  },
  {
   "cell_type": "code",
   "execution_count": null,
   "id": "40858d42",
   "metadata": {},
   "outputs": [],
   "source": [
    "Abstractmethod decorator is defined in abc module. If you try to use without importing abc module it will raise an error."
   ]
  },
  {
   "cell_type": "code",
   "execution_count": 8,
   "id": "154eb806",
   "metadata": {},
   "outputs": [],
   "source": [
    "from abc import*\n",
    "class Test:\n",
    "    @abstractmethod\n",
    "    def m(self):\n",
    "        pass"
   ]
  },
  {
   "cell_type": "markdown",
   "id": "9f9f1aab",
   "metadata": {},
   "source": [
    "# 2. Abstract class"
   ]
  },
  {
   "cell_type": "code",
   "execution_count": null,
   "id": "7b497472",
   "metadata": {},
   "outputs": [],
   "source": [
    "Some time implementation of a class is not complete such type of class are partially implemented are known as abstract class.\n",
    "Which are derived from ABC class which is present in abc module."
   ]
  },
  {
   "cell_type": "code",
   "execution_count": 9,
   "id": "da362ce7",
   "metadata": {},
   "outputs": [],
   "source": [
    "from abc import*\n",
    "class Test:\n",
    "    pass\n",
    "t=Test()"
   ]
  },
  {
   "cell_type": "code",
   "execution_count": 10,
   "id": "79561c85",
   "metadata": {},
   "outputs": [],
   "source": [
    "from abc import*\n",
    "class Test(ABC):\n",
    "    pass\n",
    "t=Test()"
   ]
  },
  {
   "cell_type": "code",
   "execution_count": 11,
   "id": "7a8b9df8",
   "metadata": {},
   "outputs": [
    {
     "ename": "TypeError",
     "evalue": "Can't instantiate abstract class Test with abstract methods m",
     "output_type": "error",
     "traceback": [
      "\u001b[1;31m---------------------------------------------------------------------------\u001b[0m",
      "\u001b[1;31mTypeError\u001b[0m                                 Traceback (most recent call last)",
      "\u001b[1;32m<ipython-input-11-63a6b5358608>\u001b[0m in \u001b[0;36m<module>\u001b[1;34m\u001b[0m\n\u001b[0;32m      4\u001b[0m     \u001b[1;32mdef\u001b[0m \u001b[0mm\u001b[0m\u001b[1;33m(\u001b[0m\u001b[0mself\u001b[0m\u001b[1;33m)\u001b[0m\u001b[1;33m:\u001b[0m\u001b[1;33m\u001b[0m\u001b[1;33m\u001b[0m\u001b[0m\n\u001b[0;32m      5\u001b[0m         \u001b[1;32mpass\u001b[0m\u001b[1;33m\u001b[0m\u001b[1;33m\u001b[0m\u001b[0m\n\u001b[1;32m----> 6\u001b[1;33m \u001b[0mt\u001b[0m\u001b[1;33m=\u001b[0m\u001b[0mTest\u001b[0m\u001b[1;33m(\u001b[0m\u001b[1;33m)\u001b[0m\u001b[1;33m\u001b[0m\u001b[1;33m\u001b[0m\u001b[0m\n\u001b[0m",
      "\u001b[1;31mTypeError\u001b[0m: Can't instantiate abstract class Test with abstract methods m"
     ]
    }
   ],
   "source": [
    "from abc import*\n",
    "class Test(ABC):\n",
    "    @abstractmethod\n",
    "    def m(self):\n",
    "        pass\n",
    "t=Test()"
   ]
  },
  {
   "cell_type": "code",
   "execution_count": 13,
   "id": "ad7e61e0",
   "metadata": {},
   "outputs": [],
   "source": [
    "from abc import*\n",
    "class Test:\n",
    "    @abstractmethod\n",
    "    def m(self):\n",
    "        pass\n",
    "t=Test()"
   ]
  },
  {
   "cell_type": "code",
   "execution_count": null,
   "id": "122cdd92",
   "metadata": {},
   "outputs": [],
   "source": [
    "Abstract class with abstract method instantiation is not possible."
   ]
  },
  {
   "cell_type": "code",
   "execution_count": 16,
   "id": "6d745713",
   "metadata": {},
   "outputs": [
    {
     "ename": "TypeError",
     "evalue": "Can't instantiate abstract class Bus with abstract methods wheels",
     "output_type": "error",
     "traceback": [
      "\u001b[1;31m---------------------------------------------------------------------------\u001b[0m",
      "\u001b[1;31mTypeError\u001b[0m                                 Traceback (most recent call last)",
      "\u001b[1;32m<ipython-input-16-9d7aea38dc3a>\u001b[0m in \u001b[0;36m<module>\u001b[1;34m\u001b[0m\n\u001b[0;32m      6\u001b[0m \u001b[1;32mclass\u001b[0m \u001b[0mBus\u001b[0m\u001b[1;33m(\u001b[0m\u001b[0mVehicle\u001b[0m\u001b[1;33m)\u001b[0m\u001b[1;33m:\u001b[0m\u001b[1;33m\u001b[0m\u001b[1;33m\u001b[0m\u001b[0m\n\u001b[0;32m      7\u001b[0m     \u001b[1;32mpass\u001b[0m\u001b[1;33m\u001b[0m\u001b[1;33m\u001b[0m\u001b[0m\n\u001b[1;32m----> 8\u001b[1;33m \u001b[0mb\u001b[0m\u001b[1;33m=\u001b[0m\u001b[0mBus\u001b[0m\u001b[1;33m(\u001b[0m\u001b[1;33m)\u001b[0m\u001b[1;33m\u001b[0m\u001b[1;33m\u001b[0m\u001b[0m\n\u001b[0m",
      "\u001b[1;31mTypeError\u001b[0m: Can't instantiate abstract class Bus with abstract methods wheels"
     ]
    }
   ],
   "source": [
    "from abc import*\n",
    "class Vehicle(ABC):\n",
    "    @abstractmethod\n",
    "    def wheels(self):\n",
    "        pass\n",
    "class Bus(Vehicle):\n",
    "    pass\n",
    "b=Bus()"
   ]
  },
  {
   "cell_type": "code",
   "execution_count": 18,
   "id": "1ff57327",
   "metadata": {},
   "outputs": [
    {
     "name": "stdout",
     "output_type": "stream",
     "text": [
      "6\n",
      "3\n"
     ]
    }
   ],
   "source": [
    "from abc import*\n",
    "class Vehicle(ABC):\n",
    "    @abstractmethod\n",
    "    def noofwheels(self):\n",
    "        pass\n",
    "class Bus(Vehicle):\n",
    "    def noofwheels(self):\n",
    "        return 6\n",
    "class Auto(Vehicle):\n",
    "    def noofwheels(self):\n",
    "        return 3\n",
    "    \n",
    "b=Bus()\n",
    "print(b.noofwheels())\n",
    "a=Auto()\n",
    "print(a.noofwheels())"
   ]
  },
  {
   "cell_type": "markdown",
   "id": "afc612a8",
   "metadata": {},
   "source": [
    "# Interface in Python"
   ]
  },
  {
   "cell_type": "code",
   "execution_count": null,
   "id": "7331483c",
   "metadata": {},
   "outputs": [],
   "source": [
    "an abstract class contains only abstract methods such type of abstract class is known as interface."
   ]
  },
  {
   "cell_type": "code",
   "execution_count": 20,
   "id": "8cb8e904",
   "metadata": {},
   "outputs": [
    {
     "name": "stdout",
     "output_type": "stream",
     "text": [
      "Enter Database nameSybase\n",
      "Connecting to Sybase Database\n",
      "Disconnecting from subase database\n"
     ]
    }
   ],
   "source": [
    "from abc import*\n",
    "class DBInterface(ABC):\n",
    "    @abstractmethod\n",
    "    def connect(self):\n",
    "        pass\n",
    "    @abstractmethod\n",
    "    def disconnect(self):\n",
    "        pass\n",
    "class Oracle(DBInterface):\n",
    "    def connect(self):\n",
    "        print(\"Connecting to Oracle Database\")\n",
    "    def disconnect(self):\n",
    "        print(\"Disconnecting Oracle Database\")\n",
    "class Sybase(DBInterface):\n",
    "    def connect(self):\n",
    "        print(\"Connecting to Sybase Database\")\n",
    "    def disconnect(self):\n",
    "        print(\"Disconnecting from subase database\")\n",
    "        \n",
    "dbname=input(\"Enter Database name\")\n",
    "classname=globals()[dbname]\n",
    "x=classname()\n",
    "x.connect()\n",
    "x.disconnect()"
   ]
  },
  {
   "cell_type": "code",
   "execution_count": null,
   "id": "605fd8c9",
   "metadata": {},
   "outputs": [],
   "source": [
    "first create config.txt file and save that file in same folder where we are going to save this program."
   ]
  },
  {
   "cell_type": "code",
   "execution_count": 22,
   "id": "060f3234",
   "metadata": {},
   "outputs": [
    {
     "name": "stdout",
     "output_type": "stream",
     "text": [
      "Printing the file from HP Printer\n",
      "This data has to print.....\n",
      "Printing completed on HP Printer\n"
     ]
    }
   ],
   "source": [
    "from abc import*\n",
    "class Printer(ABC):\n",
    "    @abstractmethod\n",
    "    def printit(self,text):\n",
    "        pass\n",
    "    @abstractmethod\n",
    "    def disconnect(self):\n",
    "        pass\n",
    "class SAMSUNG(Printer):\n",
    "    def printit(self,text):\n",
    "        print(\"Printing the file from SAMSUNG Printer\")\n",
    "        print(text)\n",
    "    def disconnect(self):\n",
    "        print(\"Printing completed on Samsung printer\")\n",
    "class HP(Printer):\n",
    "    def printit(self,text):\n",
    "        print(\"Printing the file from HP Printer\")\n",
    "        print(text)\n",
    "    def disconnect(self):\n",
    "        print(\"Printing completed on HP Printer\")\n",
    "\n",
    "\n",
    "with open('config.txt','r') as f:\n",
    "    pname=f.readline()\n",
    "classname=globals()[pname]\n",
    "x=classname()\n",
    "x.printit(\"This data has to print.....\")\n",
    "x.disconnect()\n"
   ]
  }
 ],
 "metadata": {
  "kernelspec": {
   "display_name": "Python 3",
   "language": "python",
   "name": "python3"
  },
  "language_info": {
   "codemirror_mode": {
    "name": "ipython",
    "version": 3
   },
   "file_extension": ".py",
   "mimetype": "text/x-python",
   "name": "python",
   "nbconvert_exporter": "python",
   "pygments_lexer": "ipython3",
   "version": "3.8.8"
  }
 },
 "nbformat": 4,
 "nbformat_minor": 5
}
